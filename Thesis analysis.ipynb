{
 "cells": [
  {
   "cell_type": "code",
   "execution_count": 41,
   "metadata": {},
   "outputs": [],
   "source": [
    "import numpy as np\n",
    "from scipy.stats import norm\n",
    "import yfinance as yf \n",
    "import matplotlib.pyplot as plt\n",
    "import pandas as pd \n",
    "import datetime as dt\n",
    "import pandas_datareader.data as web"
   ]
  },
  {
   "cell_type": "code",
   "execution_count": 42,
   "metadata": {},
   "outputs": [],
   "source": [
    "#Binance\n",
    "CL = 0.95\n",
    "pt = 511.71\n",
    "t = 30\n",
    "TRADING_DAYS = 365"
   ]
  },
  {
   "cell_type": "code",
   "execution_count": 43,
   "metadata": {},
   "outputs": [
    {
     "name": "stdout",
     "output_type": "stream",
     "text": [
      "279.8227756541482\n"
     ]
    }
   ],
   "source": [
    "start=dt.datetime(2018,1,1)\n",
    "end=dt.datetime(2021,12,31)\n",
    "prices=web.DataReader ('BNB-USD','yahoo',start,end)[['Adj Close']].copy()\n",
    "prices['Log Rets'] = np.log(prices['Adj Close'] / prices['Adj Close'].shift(1))\n",
    "# Dailty std\n",
    "daily_vol = np.std(prices['Log Rets'])\n",
    "\n",
    "# Annualized Volatility\n",
    "volBinance = daily_vol * TRADING_DAYS ** 0.5\n",
    "cutoff = norm.ppf(CL)\n",
    "#deterministic VaR\n",
    "VaR = (pt) * volBinance * np.sqrt(t/TRADING_DAYS) * cutoff\n",
    "\n",
    "print (VaR)"
   ]
  },
  {
   "cell_type": "code",
   "execution_count": 44,
   "metadata": {},
   "outputs": [
    {
     "data": {
      "text/plain": [
       "array([-118.39900549,  318.16817334,   -6.13949299, ...,  -91.55419572,\n",
       "        234.9747016 ,  209.53359289])"
      ]
     },
     "execution_count": 44,
     "metadata": {},
     "output_type": "execute_result"
    }
   ],
   "source": [
    "def MC_VaR(pt, er, vol, T, iterations):\n",
    "    \n",
    "    pt1 = (pt) * np.exp((er - .5 * vol ** 2) * T + \n",
    "                     vol * np.sqrt(T) * np.random.standard_normal(iterations))\n",
    "    \n",
    "    ending_values = pt1-pt\n",
    "    \n",
    "    return ending_values\n",
    "\n",
    "iterations = 50000\n",
    "\n",
    "at_riskBinance = MC_VaR(pt=511.71, er=0, vol=volBinance, T=t/TRADING_DAYS, iterations=iterations)\n",
    "\n",
    "at_riskBinance"
   ]
  },
  {
   "cell_type": "code",
   "execution_count": 45,
   "metadata": {},
   "outputs": [
    {
     "name": "stdout",
     "output_type": "stream",
     "text": [
      "231.39991728033195\n"
     ]
    },
    {
     "data": {
      "text/plain": [
       "<matplotlib.lines.Line2D at 0x7fc7ea970940>"
      ]
     },
     "execution_count": 45,
     "metadata": {},
     "output_type": "execute_result"
    },
    {
     "data": {
      "image/png": "[encoded data removed]",
      "text/plain": [
       "<Figure size 432x288 with 1 Axes>"
      ]
     },
     "metadata": {},
     "output_type": "display_data"
    }
   ],
   "source": [
    "percentiles = 5\n",
    "v95 = np.percentile(at_riskBinance, percentiles) * -1\n",
    "print(v95)\n",
    "df=pd.DataFrame (at_riskBinance,columns=['loss'])\n",
    "with plt.style.context('ggplot'):\n",
    "    plt.hist(at_riskBinance, bins=50)\n",
    "plt.axvline(df['loss'].quantile(0.05),c='navy', linestyle=':')"
   ]
  },
  {
   "cell_type": "code",
   "execution_count": null,
   "metadata": {},
   "outputs": [],
   "source": [
    "percentiles = 5\n",
    "v95 = np.percentile(at_risk, percentiles) * -1\n",
    "print(v95)\n",
    "df=pd.DataFrame (at_risk,columns=['loss'])\n",
    "with plt.style.context('ggplot'):\n",
    "    plt.hist(at_risk, bins=50)\n",
    "plt.axvline(df['loss'].quantile(0.05),c='navy', linestyle=':')"
   ]
  },
  {
   "cell_type": "code",
   "execution_count": 48,
   "metadata": {},
   "outputs": [],
   "source": [
    "#Bitcoin\n",
    "CL = 0.95\n",
    "pt = 46306.45\n",
    "t = 30\n",
    "TRADING_DAYS = 365"
   ]
  },
  {
   "cell_type": "code",
   "execution_count": 49,
   "metadata": {},
   "outputs": [
    {
     "name": "stdout",
     "output_type": "stream",
     "text": [
      "16781.649534617587\n"
     ]
    }
   ],
   "source": [
    "start=dt.datetime(2018,1,1)\n",
    "end=dt.datetime(2021,12,31)\n",
    "prices=web.DataReader ('BTC-USD','yahoo',start,end)[['Adj Close']].copy()\n",
    "prices['Log Rets'] = np.log(prices['Adj Close'] / prices['Adj Close'].shift(1))\n",
    "# Dailty std\n",
    "daily_vol = np.std(prices['Log Rets'])\n",
    "\n",
    "# Annualized Volatility\n",
    "volBitcoin = daily_vol * TRADING_DAYS ** 0.5\n",
    "cutoff = norm.ppf(CL)\n",
    "#deterministic VaR\n",
    "VaR = (pt) * volBitcoin * np.sqrt(t/TRADING_DAYS) * cutoff\n",
    "\n",
    "print (VaR)"
   ]
  },
  {
   "cell_type": "code",
   "execution_count": 50,
   "metadata": {},
   "outputs": [
    {
     "data": {
      "text/plain": [
       "array([-11381.96765266,  -2129.75873621, -12741.22964708, ...,\n",
       "       -15005.60279218,   9028.05900244,   8503.7665943 ])"
      ]
     },
     "execution_count": 50,
     "metadata": {},
     "output_type": "execute_result"
    }
   ],
   "source": [
    "def MC_VaR(pt, er, vol, T, iterations):\n",
    "    \n",
    "    pt1 = (pt) * np.exp((er - .5 * vol ** 2) * T + \n",
    "                     vol * np.sqrt(T) * np.random.standard_normal(iterations))\n",
    "    \n",
    "    ending_values = pt1-pt\n",
    "    \n",
    "    return ending_values\n",
    "\n",
    "iterations = 50000\n",
    "\n",
    "at_riskBitcoin = MC_VaR(pt=46306.45, er=0, vol=volBitcoin, T=t/TRADING_DAYS, iterations=iterations)\n",
    "\n",
    "at_riskBitcoin"
   ]
  },
  {
   "cell_type": "code",
   "execution_count": 51,
   "metadata": {},
   "outputs": [
    {
     "name": "stdout",
     "output_type": "stream",
     "text": [
      "14807.828898694672\n"
     ]
    },
    {
     "data": {
      "text/plain": [
       "<matplotlib.lines.Line2D at 0x7fc7ea1a8be0>"
      ]
     },
     "execution_count": 51,
     "metadata": {},
     "output_type": "execute_result"
    },
    {
     "data": {
      "image/png": "[encoded data removed]",
      "text/plain": [
       "<Figure size 432x288 with 1 Axes>"
      ]
     },
     "metadata": {},
     "output_type": "display_data"
    }
   ],
   "source": [
    "percentiles = 5\n",
    "v95 = np.percentile(at_riskBitcoin, percentiles) * -1\n",
    "print(v95)\n",
    "df=pd.DataFrame (at_riskBitcoin,columns=['loss'])\n",
    "with plt.style.context('ggplot'):\n",
    "    plt.hist(at_riskBitcoin, bins=50)\n",
    "plt.axvline(df['loss'].quantile(0.05),c='navy', linestyle=':')"
   ]
  },
  {
   "cell_type": "code",
   "execution_count": 57,
   "metadata": {},
   "outputs": [],
   "source": [
    "#BitcoinCash\n",
    "CL = 0.95\n",
    "pt = 430.64\n",
    "t = 30\n",
    "TRADING_DAYS = 365"
   ]
  },
  {
   "cell_type": "code",
   "execution_count": 58,
   "metadata": {},
   "outputs": [
    {
     "name": "stdout",
     "output_type": "stream",
     "text": [
      "248.35943953896916\n"
     ]
    }
   ],
   "source": [
    "start=dt.datetime(2018,1,1)\n",
    "end=dt.datetime(2021,12,31)\n",
    "prices=web.DataReader ('BCH-USD','yahoo',start,end)[['Adj Close']].copy()\n",
    "prices['Log Rets'] = np.log(prices['Adj Close'] / prices['Adj Close'].shift(1))\n",
    "# Dailty std\n",
    "daily_vol = np.std(prices['Log Rets'])\n",
    "\n",
    "# Annualized Volatility\n",
    "volBitcoinCash = daily_vol * TRADING_DAYS ** 0.5\n",
    "cutoff = norm.ppf(CL)\n",
    "#deterministic VaR\n",
    "VaR = (pt) * volBitcoinCash * np.sqrt(t/TRADING_DAYS) * cutoff\n",
    "\n",
    "print (VaR)"
   ]
  },
  {
   "cell_type": "code",
   "execution_count": 59,
   "metadata": {},
   "outputs": [
    {
     "data": {
      "text/plain": [
       "array([ 507.72021018, -110.70052175,  -15.17716214, ...,  -82.80708408,\n",
       "        -47.65070776, -172.62275282])"
      ]
     },
     "execution_count": 59,
     "metadata": {},
     "output_type": "execute_result"
    }
   ],
   "source": [
    "def MC_VaR(pt, er, vol, T, iterations):\n",
    "    \n",
    "    pt1 = (pt) * np.exp((er - .5 * vol ** 2) * T + \n",
    "                     vol * np.sqrt(T) * np.random.standard_normal(iterations))\n",
    "    \n",
    "    ending_values = pt1-pt\n",
    "    \n",
    "    return ending_values\n",
    "\n",
    "iterations = 50000\n",
    "\n",
    "at_riskBitcoinCash = MC_VaR(pt=430.64, er=0, vol=volBitcoinCash, T=t/TRADING_DAYS, iterations=iterations)\n",
    "\n",
    "at_riskBitcoinCash"
   ]
  },
  {
   "cell_type": "code",
   "execution_count": 61,
   "metadata": {},
   "outputs": [
    {
     "name": "stdout",
     "output_type": "stream",
     "text": [
      "203.14770283761848\n"
     ]
    },
    {
     "data": {
      "text/plain": [
       "<matplotlib.lines.Line2D at 0x7fc7ea603c70>"
      ]
     },
     "execution_count": 61,
     "metadata": {},
     "output_type": "execute_result"
    },
    {
     "data": {
      "image/png": "[encoded data removed]",
      "text/plain": [
       "<Figure size 432x288 with 1 Axes>"
      ]
     },
     "metadata": {},
     "output_type": "display_data"
    }
   ],
   "source": [
    "percentiles = 5\n",
    "v95 = np.percentile(at_riskBitcoinCash, percentiles) * -1\n",
    "print(v95)\n",
    "df=pd.DataFrame (at_riskBitcoinCash,columns=['loss'])\n",
    "with plt.style.context('ggplot'):\n",
    "    plt.hist(at_riskBitcoinCash, bins=50)\n",
    "plt.axvline(df['loss'].quantile(0.05),c='navy', linestyle=':')"
   ]
  },
  {
   "cell_type": "code",
   "execution_count": 63,
   "metadata": {},
   "outputs": [],
   "source": [
    "#Cardano\n",
    "CL = 0.95\n",
    "pt = 1.3102\n",
    "t = 30\n",
    "TRADING_DAYS = 365"
   ]
  },
  {
   "cell_type": "code",
   "execution_count": 64,
   "metadata": {},
   "outputs": [
    {
     "name": "stdout",
     "output_type": "stream",
     "text": [
      "0.7230567581177081\n"
     ]
    }
   ],
   "source": [
    "start=dt.datetime(2018,1,1)\n",
    "end=dt.datetime(2021,12,31)\n",
    "prices=web.DataReader ('ADA-USD','yahoo',start,end)[['Adj Close']].copy()\n",
    "prices['Log Rets'] = np.log(prices['Adj Close'] / prices['Adj Close'].shift(1))\n",
    "# Dailty std\n",
    "daily_vol = np.std(prices['Log Rets'])\n",
    "\n",
    "# Annualized Volatility\n",
    "volCardano = daily_vol * TRADING_DAYS ** 0.5\n",
    "cutoff = norm.ppf(CL)\n",
    "#deterministic VaR\n",
    "VaR = (pt) * volCardano * np.sqrt(t/TRADING_DAYS) * cutoff\n",
    "\n",
    "print (VaR)"
   ]
  },
  {
   "cell_type": "code",
   "execution_count": 65,
   "metadata": {},
   "outputs": [
    {
     "data": {
      "text/plain": [
       "array([-0.20578874, -0.07777302,  0.01302597, ...,  0.90422941,\n",
       "        0.49126225,  0.29457967])"
      ]
     },
     "execution_count": 65,
     "metadata": {},
     "output_type": "execute_result"
    }
   ],
   "source": [
    "def MC_VaR(pt, er, vol, T, iterations):\n",
    "    \n",
    "    pt1 = (pt) * np.exp((er - .5 * vol ** 2) * T + \n",
    "                     vol * np.sqrt(T) * np.random.standard_normal(iterations))\n",
    "    \n",
    "    ending_values = pt1-pt\n",
    "    \n",
    "    return ending_values\n",
    "\n",
    "iterations = 50000\n",
    "\n",
    "at_riskCardano = MC_VaR(pt=1.3102, er=0, vol=volCardano, T=t/TRADING_DAYS, iterations=iterations)\n",
    "\n",
    "at_riskCardano"
   ]
  },
  {
   "cell_type": "code",
   "execution_count": 66,
   "metadata": {},
   "outputs": [
    {
     "name": "stdout",
     "output_type": "stream",
     "text": [
      "0.5982380938033214\n"
     ]
    },
    {
     "data": {
      "text/plain": [
       "<matplotlib.lines.Line2D at 0x7fc7ebd90fd0>"
      ]
     },
     "execution_count": 66,
     "metadata": {},
     "output_type": "execute_result"
    },
    {
     "data": {
      "image/png": "[encoded data removed]",
      "text/plain": [
       "<Figure size 432x288 with 1 Axes>"
      ]
     },
     "metadata": {},
     "output_type": "display_data"
    }
   ],
   "source": [
    "percentiles = 5\n",
    "v95 = np.percentile(at_riskCardano, percentiles) * -1\n",
    "print(v95)\n",
    "df=pd.DataFrame (at_riskCardano,columns=['loss'])\n",
    "with plt.style.context('ggplot'):\n",
    "    plt.hist(at_riskCardano, bins=50)\n",
    "plt.axvline(df['loss'].quantile(0.05),c='navy', linestyle=':')"
   ]
  },
  {
   "cell_type": "code",
   "execution_count": 67,
   "metadata": {},
   "outputs": [],
   "source": [
    "#Dogecoin\n",
    "CL = 0.95\n",
    "pt = 0.170496\n",
    "t = 30\n",
    "TRADING_DAYS = 365"
   ]
  },
  {
   "cell_type": "code",
   "execution_count": 68,
   "metadata": {},
   "outputs": [
    {
     "name": "stdout",
     "output_type": "stream",
     "text": [
      "0.1250138295589116\n"
     ]
    }
   ],
   "source": [
    "start=dt.datetime(2018,1,1)\n",
    "end=dt.datetime(2021,12,31)\n",
    "prices=web.DataReader ('DOGE-USD','yahoo',start,end)[['Adj Close']].copy()\n",
    "prices['Log Rets'] = np.log(prices['Adj Close'] / prices['Adj Close'].shift(1))\n",
    "# Dailty std\n",
    "daily_vol = np.std(prices['Log Rets'])\n",
    "\n",
    "# Annualized Volatility\n",
    "volDogecoin = daily_vol * TRADING_DAYS ** 0.5\n",
    "cutoff = norm.ppf(CL)\n",
    "#deterministic VaR\n",
    "VaR = (pt) * volDogecoin * np.sqrt(t/TRADING_DAYS) * cutoff\n",
    "\n",
    "print (VaR)"
   ]
  },
  {
   "cell_type": "code",
   "execution_count": 69,
   "metadata": {},
   "outputs": [
    {
     "data": {
      "text/plain": [
       "array([-0.07870029, -0.10854419,  0.03948685, ...,  0.11794147,\n",
       "        0.03258642,  0.06231802])"
      ]
     },
     "execution_count": 69,
     "metadata": {},
     "output_type": "execute_result"
    }
   ],
   "source": [
    "def MC_VaR(pt, er, vol, T, iterations):\n",
    "    \n",
    "    pt1 = (pt) * np.exp((er - .5 * vol ** 2) * T + \n",
    "                     vol * np.sqrt(T) * np.random.standard_normal(iterations))\n",
    "    \n",
    "    ending_values = pt1-pt\n",
    "    \n",
    "    return ending_values\n",
    "\n",
    "iterations = 50000\n",
    "\n",
    "at_riskDogecoin = MC_VaR(pt=0.170496, er=0, vol=volDogecoin, T=t/TRADING_DAYS, iterations=iterations)\n",
    "\n",
    "at_riskDogecoin"
   ]
  },
  {
   "cell_type": "code",
   "execution_count": 70,
   "metadata": {},
   "outputs": [
    {
     "name": "stdout",
     "output_type": "stream",
     "text": [
      "0.09659546784127107\n"
     ]
    },
    {
     "data": {
      "text/plain": [
       "<matplotlib.lines.Line2D at 0x7fc7ebcf38b0>"
      ]
     },
     "execution_count": 70,
     "metadata": {},
     "output_type": "execute_result"
    },
    {
     "data": {
      "image/png": "[encoded data removed]",
      "text/plain": [
       "<Figure size 432x288 with 1 Axes>"
      ]
     },
     "metadata": {},
     "output_type": "display_data"
    }
   ],
   "source": [
    "percentiles = 5\n",
    "v95 = np.percentile(at_riskDogecoin, percentiles) * -1\n",
    "print(v95)\n",
    "df=pd.DataFrame (at_riskDogecoin,columns=['loss'])\n",
    "with plt.style.context('ggplot'):\n",
    "    plt.hist(at_riskDogecoin, bins=50)\n",
    "plt.axvline(df['loss'].quantile(0.05),c='navy', linestyle=':')"
   ]
  },
  {
   "cell_type": "code",
   "execution_count": 71,
   "metadata": {},
   "outputs": [],
   "source": [
    "#EOS\n",
    "CL = 0.95\n",
    "pt = 3.0359\n",
    "t = 30\n",
    "TRADING_DAYS = 365"
   ]
  },
  {
   "cell_type": "code",
   "execution_count": 72,
   "metadata": {},
   "outputs": [
    {
     "name": "stdout",
     "output_type": "stream",
     "text": [
      "1.8086960770983613\n"
     ]
    }
   ],
   "source": [
    "start=dt.datetime(2018,1,1)\n",
    "end=dt.datetime(2021,12,31)\n",
    "prices=web.DataReader ('EOS-USD','yahoo',start,end)[['Adj Close']].copy()\n",
    "prices['Log Rets'] = np.log(prices['Adj Close'] / prices['Adj Close'].shift(1))\n",
    "# Dailty std\n",
    "daily_vol = np.std(prices['Log Rets'])\n",
    "\n",
    "# Annualized Volatility\n",
    "volEOS = daily_vol * TRADING_DAYS ** 0.5\n",
    "cutoff = norm.ppf(CL)\n",
    "#deterministic VaR\n",
    "VaR = (pt) * volEOS * np.sqrt(t/TRADING_DAYS) * cutoff\n",
    "\n",
    "print (VaR)"
   ]
  },
  {
   "cell_type": "code",
   "execution_count": 73,
   "metadata": {},
   "outputs": [
    {
     "data": {
      "text/plain": [
       "array([-0.75443368, -1.15181074, -1.73612733, ..., -1.4452887 ,\n",
       "        1.89737219, -0.50979741])"
      ]
     },
     "execution_count": 73,
     "metadata": {},
     "output_type": "execute_result"
    }
   ],
   "source": [
    "def MC_VaR(pt, er, vol, T, iterations):\n",
    "    \n",
    "    pt1 = (pt) * np.exp((er - .5 * vol ** 2) * T + \n",
    "                     vol * np.sqrt(T) * np.random.standard_normal(iterations))\n",
    "    \n",
    "    ending_values = pt1-pt\n",
    "    \n",
    "    return ending_values\n",
    "\n",
    "iterations = 50000\n",
    "\n",
    "at_riskEOS = MC_VaR(pt=3.0359, er=0, vol=volEOS, T=t/TRADING_DAYS, iterations=iterations)\n",
    "\n",
    "at_riskEOS"
   ]
  },
  {
   "cell_type": "code",
   "execution_count": 74,
   "metadata": {},
   "outputs": [
    {
     "name": "stdout",
     "output_type": "stream",
     "text": [
      "1.4688656562324254\n"
     ]
    },
    {
     "data": {
      "text/plain": [
       "<matplotlib.lines.Line2D at 0x7fc7ebaa3070>"
      ]
     },
     "execution_count": 74,
     "metadata": {},
     "output_type": "execute_result"
    },
    {
     "data": {
      "image/png": "[encoded data removed]",
      "text/plain": [
       "<Figure size 432x288 with 1 Axes>"
      ]
     },
     "metadata": {},
     "output_type": "display_data"
    }
   ],
   "source": [
    "percentiles = 5\n",
    "v95 = np.percentile(at_riskEOS, percentiles) * -1\n",
    "print(v95)\n",
    "df=pd.DataFrame (at_riskEOS,columns=['loss'])\n",
    "with plt.style.context('ggplot'):\n",
    "    plt.hist(at_riskEOS, bins=50)\n",
    "plt.axvline(df['loss'].quantile(0.05),c='navy', linestyle=':')"
   ]
  },
  {
   "cell_type": "code",
   "execution_count": 75,
   "metadata": {},
   "outputs": [],
   "source": [
    "#Ethereum\n",
    "CL = 0.95\n",
    "pt = 3682.63\n",
    "t = 30\n",
    "TRADING_DAYS = 365"
   ]
  },
  {
   "cell_type": "code",
   "execution_count": 76,
   "metadata": {},
   "outputs": [
    {
     "name": "stdout",
     "output_type": "stream",
     "text": [
      "1727.01141124344\n"
     ]
    }
   ],
   "source": [
    "start=dt.datetime(2018,1,1)\n",
    "end=dt.datetime(2021,12,31)\n",
    "prices=web.DataReader ('ETH-USD','yahoo',start,end)[['Adj Close']].copy()\n",
    "prices['Log Rets'] = np.log(prices['Adj Close'] / prices['Adj Close'].shift(1))\n",
    "# Dailty std\n",
    "daily_vol = np.std(prices['Log Rets'])\n",
    "\n",
    "# Annualized Volatility\n",
    "volEthereum = daily_vol * TRADING_DAYS ** 0.5\n",
    "cutoff = norm.ppf(CL)\n",
    "#deterministic VaR\n",
    "VaR = (pt) * volEthereum * np.sqrt(t/TRADING_DAYS) * cutoff\n",
    "\n",
    "print (VaR)"
   ]
  },
  {
   "cell_type": "code",
   "execution_count": 77,
   "metadata": {},
   "outputs": [
    {
     "data": {
      "text/plain": [
       "array([ -991.0986287 ,  -528.55220885,   442.20603326, ...,\n",
       "          14.8580211 , -1316.61951842, -1439.46284333])"
      ]
     },
     "execution_count": 77,
     "metadata": {},
     "output_type": "execute_result"
    }
   ],
   "source": [
    "def MC_VaR(pt, er, vol, T, iterations):\n",
    "    \n",
    "    pt1 = (pt) * np.exp((er - .5 * vol ** 2) * T + \n",
    "                     vol * np.sqrt(T) * np.random.standard_normal(iterations))\n",
    "    \n",
    "    ending_values = pt1-pt\n",
    "    \n",
    "    return ending_values\n",
    "\n",
    "iterations = 50000\n",
    "\n",
    "at_riskEthereum = MC_VaR(pt=3682.63, er=0, vol=volEthereum, T=t/TRADING_DAYS, iterations=iterations)\n",
    "\n",
    "at_riskEthereum"
   ]
  },
  {
   "cell_type": "code",
   "execution_count": 78,
   "metadata": {},
   "outputs": [
    {
     "name": "stdout",
     "output_type": "stream",
     "text": [
      "1472.8424436864016\n"
     ]
    },
    {
     "data": {
      "text/plain": [
       "<matplotlib.lines.Line2D at 0x7fc7eb634b20>"
      ]
     },
     "execution_count": 78,
     "metadata": {},
     "output_type": "execute_result"
    },
    {
     "data": {
      "image/png": "[encoded data removed]",
      "text/plain": [
       "<Figure size 432x288 with 1 Axes>"
      ]
     },
     "metadata": {},
     "output_type": "display_data"
    }
   ],
   "source": [
    "percentiles = 5\n",
    "v95 = np.percentile(at_riskEthereum, percentiles) * -1\n",
    "print(v95)\n",
    "df=pd.DataFrame (at_riskEthereum,columns=['loss'])\n",
    "with plt.style.context('ggplot'):\n",
    "    plt.hist(at_riskEthereum, bins=50)\n",
    "plt.axvline(df['loss'].quantile(0.05),c='navy', linestyle=':')"
   ]
  },
  {
   "cell_type": "code",
   "execution_count": 79,
   "metadata": {},
   "outputs": [],
   "source": [
    "#Litecoin\n",
    "CL = 0.95\n",
    "pt = 146.51\n",
    "t = 30\n",
    "TRADING_DAYS = 365"
   ]
  },
  {
   "cell_type": "code",
   "execution_count": 80,
   "metadata": {},
   "outputs": [
    {
     "name": "stdout",
     "output_type": "stream",
     "text": [
      "72.48724726963913\n"
     ]
    }
   ],
   "source": [
    "start=dt.datetime(2018,1,1)\n",
    "end=dt.datetime(2021,12,31)\n",
    "prices=web.DataReader ('LTC-USD','yahoo',start,end)[['Adj Close']].copy()\n",
    "prices['Log Rets'] = np.log(prices['Adj Close'] / prices['Adj Close'].shift(1))\n",
    "# Dailty std\n",
    "daily_vol = np.std(prices['Log Rets'])\n",
    "\n",
    "# Annualized Volatility\n",
    "volLitecoin = daily_vol * TRADING_DAYS ** 0.5\n",
    "cutoff = norm.ppf(CL)\n",
    "#deterministic VaR\n",
    "VaR = (pt) * volLitecoin * np.sqrt(t/TRADING_DAYS) * cutoff\n",
    "\n",
    "print (VaR)"
   ]
  },
  {
   "cell_type": "code",
   "execution_count": 81,
   "metadata": {},
   "outputs": [
    {
     "data": {
      "text/plain": [
       "array([  5.83172726,  -8.50411577, -41.25781713, ...,  30.09620471,\n",
       "        63.57713607,  -4.87351373])"
      ]
     },
     "execution_count": 81,
     "metadata": {},
     "output_type": "execute_result"
    }
   ],
   "source": [
    "def MC_VaR(pt, er, vol, T, iterations):\n",
    "    \n",
    "    pt1 = (pt) * np.exp((er - .5 * vol ** 2) * T + \n",
    "                     vol * np.sqrt(T) * np.random.standard_normal(iterations))\n",
    "    \n",
    "    ending_values = pt1-pt\n",
    "    \n",
    "    return ending_values\n",
    "\n",
    "iterations = 50000\n",
    "\n",
    "at_riskLitecoin = MC_VaR(pt=146.51, er=0, vol=volLitecoin, T=t/TRADING_DAYS, iterations=iterations)\n",
    "\n",
    "at_riskLitecoin"
   ]
  },
  {
   "cell_type": "code",
   "execution_count": 82,
   "metadata": {},
   "outputs": [
    {
     "name": "stdout",
     "output_type": "stream",
     "text": [
      "61.32238217605129\n"
     ]
    },
    {
     "data": {
      "text/plain": [
       "<matplotlib.lines.Line2D at 0x7fc7eb622df0>"
      ]
     },
     "execution_count": 82,
     "metadata": {},
     "output_type": "execute_result"
    },
    {
     "data": {
      "image/png": "[encoded data removed]",
      "text/plain": [
       "<Figure size 432x288 with 1 Axes>"
      ]
     },
     "metadata": {},
     "output_type": "display_data"
    }
   ],
   "source": [
    "percentiles = 5\n",
    "v95 = np.percentile(at_riskLitecoin, percentiles) * -1\n",
    "print(v95)\n",
    "df=pd.DataFrame (at_riskLitecoin,columns=['loss'])\n",
    "with plt.style.context('ggplot'):\n",
    "    plt.hist(at_riskLitecoin, bins=50)\n",
    "plt.axvline(df['loss'].quantile(0.05),c='navy', linestyle=':')"
   ]
  },
  {
   "cell_type": "code",
   "execution_count": 83,
   "metadata": {},
   "outputs": [],
   "source": [
    "#Stellar\n",
    "CL = 0.95\n",
    "pt = 0.267394\n",
    "t = 30\n",
    "TRADING_DAYS = 365"
   ]
  },
  {
   "cell_type": "code",
   "execution_count": 84,
   "metadata": {},
   "outputs": [
    {
     "name": "stdout",
     "output_type": "stream",
     "text": [
      "0.14767308225992715\n"
     ]
    }
   ],
   "source": [
    "start=dt.datetime(2018,1,1)\n",
    "end=dt.datetime(2021,12,31)\n",
    "prices=web.DataReader ('XLM-USD','yahoo',start,end)[['Adj Close']].copy()\n",
    "prices['Log Rets'] = np.log(prices['Adj Close'] / prices['Adj Close'].shift(1))\n",
    "# Dailty std\n",
    "daily_vol = np.std(prices['Log Rets'])\n",
    "\n",
    "# Annualized Volatility\n",
    "volStellar= daily_vol * TRADING_DAYS ** 0.5\n",
    "cutoff = norm.ppf(CL)\n",
    "#deterministic VaR\n",
    "VaR = (pt) * volStellar * np.sqrt(t/TRADING_DAYS) * cutoff\n",
    "\n",
    "print (VaR)"
   ]
  },
  {
   "cell_type": "code",
   "execution_count": 85,
   "metadata": {},
   "outputs": [
    {
     "data": {
      "text/plain": [
       "array([ 0.20737552, -0.01855749,  0.05602933, ..., -0.1001685 ,\n",
       "        0.13185243,  0.03353746])"
      ]
     },
     "execution_count": 85,
     "metadata": {},
     "output_type": "execute_result"
    }
   ],
   "source": [
    "def MC_VaR(pt, er, vol, T, iterations):\n",
    "    \n",
    "    pt1 = (pt) * np.exp((er - .5 * vol ** 2) * T + \n",
    "                     vol * np.sqrt(T) * np.random.standard_normal(iterations))\n",
    "    \n",
    "    ending_values = pt1-pt\n",
    "    \n",
    "    return ending_values\n",
    "\n",
    "iterations = 50000\n",
    "\n",
    "at_riskStellar = MC_VaR(pt=0.267394, er=0, vol=volStellar, T=t/TRADING_DAYS, iterations=iterations)\n",
    "\n",
    "at_riskStellar"
   ]
  },
  {
   "cell_type": "code",
   "execution_count": 86,
   "metadata": {},
   "outputs": [
    {
     "name": "stdout",
     "output_type": "stream",
     "text": [
      "0.12228672804066765\n"
     ]
    },
    {
     "data": {
      "text/plain": [
       "<matplotlib.lines.Line2D at 0x7fc7eae8d700>"
      ]
     },
     "execution_count": 86,
     "metadata": {},
     "output_type": "execute_result"
    },
    {
     "data": {
      "image/png": "[encoded data removed]",
      "text/plain": [
       "<Figure size 432x288 with 1 Axes>"
      ]
     },
     "metadata": {},
     "output_type": "display_data"
    }
   ],
   "source": [
    "percentiles = 5\n",
    "v95 = np.percentile(at_riskStellar, percentiles) * -1\n",
    "print(v95)\n",
    "df=pd.DataFrame (at_riskStellar,columns=['loss'])\n",
    "with plt.style.context('ggplot'):\n",
    "    plt.hist(at_riskStellar, bins=50)\n",
    "plt.axvline(df['loss'].quantile(0.05),c='navy', linestyle=':')"
   ]
  },
  {
   "cell_type": "code",
   "execution_count": 87,
   "metadata": {},
   "outputs": [],
   "source": [
    "#XRP\n",
    "CL = 0.95\n",
    "pt = 0.831163\n",
    "t = 30\n",
    "TRADING_DAYS = 365"
   ]
  },
  {
   "cell_type": "code",
   "execution_count": 88,
   "metadata": {},
   "outputs": [
    {
     "name": "stdout",
     "output_type": "stream",
     "text": [
      "0.4686789264428043\n"
     ]
    }
   ],
   "source": [
    "start=dt.datetime(2018,1,1)\n",
    "end=dt.datetime(2021,12,31)\n",
    "prices=web.DataReader ('XRP-USD','yahoo',start,end)[['Adj Close']].copy()\n",
    "prices['Log Rets'] = np.log(prices['Adj Close'] / prices['Adj Close'].shift(1))\n",
    "# Dailty std\n",
    "daily_vol = np.std(prices['Log Rets'])\n",
    "\n",
    "# Annualized Volatility\n",
    "volXRP= daily_vol * TRADING_DAYS ** 0.5\n",
    "cutoff = norm.ppf(CL)\n",
    "#deterministic VaR\n",
    "VaR = (pt) * volXRP * np.sqrt(t/TRADING_DAYS) * cutoff\n",
    "\n",
    "print (VaR)"
   ]
  },
  {
   "cell_type": "code",
   "execution_count": 89,
   "metadata": {},
   "outputs": [
    {
     "data": {
      "text/plain": [
       "array([ 0.21970753,  0.15273992, -0.17260966, ..., -0.21532461,\n",
       "       -0.39934576, -0.08201603])"
      ]
     },
     "execution_count": 89,
     "metadata": {},
     "output_type": "execute_result"
    }
   ],
   "source": [
    "def MC_VaR(pt, er, vol, T, iterations):\n",
    "    \n",
    "    pt1 = (pt) * np.exp((er - .5 * vol ** 2) * T + \n",
    "                     vol * np.sqrt(T) * np.random.standard_normal(iterations))\n",
    "    \n",
    "    ending_values = pt1-pt\n",
    "    \n",
    "    return ending_values\n",
    "\n",
    "iterations = 50000\n",
    "\n",
    "at_riskXRP = MC_VaR(pt=0.831163, er=0, vol=volXRP, T=t/TRADING_DAYS, iterations=iterations)\n",
    "\n",
    "at_riskXRP"
   ]
  },
  {
   "cell_type": "code",
   "execution_count": 90,
   "metadata": {},
   "outputs": [
    {
     "name": "stdout",
     "output_type": "stream",
     "text": [
      "0.3869229849804319\n"
     ]
    },
    {
     "data": {
      "text/plain": [
       "<matplotlib.lines.Line2D at 0x7fc7eb7b8430>"
      ]
     },
     "execution_count": 90,
     "metadata": {},
     "output_type": "execute_result"
    },
    {
     "data": {
      "image/png": "[encoded data removed]",
      "text/plain": [
       "<Figure size 432x288 with 1 Axes>"
      ]
     },
     "metadata": {},
     "output_type": "display_data"
    }
   ],
   "source": [
    "percentiles = 5\n",
    "v95 = np.percentile(at_riskXRP, percentiles) * -1\n",
    "print(v95)\n",
    "df=pd.DataFrame (at_riskXRP,columns=['loss'])\n",
    "with plt.style.context('ggplot'):\n",
    "    plt.hist(at_riskXRP, bins=50)\n",
    "plt.axvline(df['loss'].quantile(0.05),c='navy', linestyle=':')"
   ]
  },
  {
   "cell_type": "code",
   "execution_count": null,
   "metadata": {},
   "outputs": [],
   "source": []
  }
 ],
 "metadata": {
  "kernelspec": {
   "display_name": "Python 3",
   "language": "python",
   "name": "python3"
  },
  "language_info": {
   "codemirror_mode": {
    "name": "ipython",
    "version": 3
   },
   "file_extension": ".py",
   "mimetype": "text/x-python",
   "name": "python",
   "nbconvert_exporter": "python",
   "pygments_lexer": "ipython3",
   "version": "3.8.3"
  }
 },
 "nbformat": 4,
 "nbformat_minor": 4
}
